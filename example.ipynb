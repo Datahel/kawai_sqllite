{
 "cells": [
  {
   "cell_type": "markdown",
   "metadata": {},
   "source": [
    "# SQLite Python excercise"
   ]
  },
  {
   "cell_type": "code",
   "execution_count": 1,
   "metadata": {},
   "outputs": [],
   "source": [
    "import sqlite3"
   ]
  },
  {
   "cell_type": "markdown",
   "metadata": {},
   "source": [
    "## Intro"
   ]
  },
  {
   "cell_type": "markdown",
   "metadata": {},
   "source": [
    "Create DB"
   ]
  },
  {
   "cell_type": "code",
   "execution_count": 2,
   "metadata": {},
   "outputs": [],
   "source": [
    "# database represented as a 'connection'\n",
    "# new database is created if it does not exist on given name\n",
    "con = sqlite3.connect(\"example.db\")"
   ]
  },
  {
   "cell_type": "markdown",
   "metadata": {},
   "source": [
    "Database interface is called 'cursor'"
   ]
  },
  {
   "cell_type": "code",
   "execution_count": 3,
   "metadata": {},
   "outputs": [],
   "source": [
    "cur = con.cursor()"
   ]
  },
  {
   "cell_type": "markdown",
   "metadata": {},
   "source": [
    "The cursor allows us to interact with the database using SQL"
   ]
  },
  {
   "cell_type": "code",
   "execution_count": 4,
   "metadata": {},
   "outputs": [
    {
     "data": {
      "text/plain": [
       "<sqlite3.Cursor at 0x7fbfd677d730>"
      ]
     },
     "execution_count": 4,
     "metadata": {},
     "output_type": "execute_result"
    }
   ],
   "source": [
    "cur.execute(\"CREATE TABLE movie (title, year, score)\")\n"
   ]
  },
  {
   "cell_type": "markdown",
   "metadata": {},
   "source": [
    "Add data:"
   ]
  },
  {
   "cell_type": "code",
   "execution_count": 5,
   "metadata": {},
   "outputs": [],
   "source": [
    "cur.execute(\"\"\"\n",
    "    INSERT INTO movie VALUES\n",
    "        ('Monty Python and the Holy Grail', 1975, 8.2),\n",
    "        ('And Now for Something Completely Different', 1971, 7.5)\n",
    "\"\"\")\n",
    "con.commit() # changes must be committed"
   ]
  },
  {
   "cell_type": "markdown",
   "metadata": {},
   "source": [
    "Query data:"
   ]
  },
  {
   "cell_type": "code",
   "execution_count": 6,
   "metadata": {},
   "outputs": [
    {
     "data": {
      "text/plain": [
       "[('Monty Python and the Holy Grail', 1975, 8.2),\n",
       " ('And Now for Something Completely Different', 1971, 7.5)]"
      ]
     },
     "execution_count": 6,
     "metadata": {},
     "output_type": "execute_result"
    }
   ],
   "source": [
    "res = cur.execute(\"SELECT * FROM movie\")\n",
    "res.fetchall()"
   ]
  },
  {
   "cell_type": "markdown",
   "metadata": {},
   "source": [
    "You can also add multiple rows using a one-liner:"
   ]
  },
  {
   "cell_type": "code",
   "execution_count": 7,
   "metadata": {},
   "outputs": [],
   "source": [
    "data = [\n",
    "    (\"Monty Python Live at the Hollywood Bowl\", 1982, 7.9),\n",
    "    (\"Monty Python's The Meaning of Life\", 1983, 7.5),\n",
    "    (\"Monty Python's Life of Brian\", 1979, 8.0),\n",
    "]\n",
    "cur.executemany(\"INSERT INTO movie VALUES(?, ?, ?)\", data)\n",
    "con.commit()"
   ]
  },
  {
   "cell_type": "markdown",
   "metadata": {},
   "source": [
    "Notice that ? placeholders are used to bind data to the query. Always use placeholders instead of string formatting to bind Python values to SQL statements, to avoid SQL injection attacks.\n",
    "\n",
    "What is an SQL injection attack? Consider the following:"
   ]
  },
  {
   "cell_type": "code",
   "execution_count": 8,
   "metadata": {},
   "outputs": [
    {
     "data": {
      "text/plain": [
       "<sqlite3.Cursor at 0x7fbfd677d730>"
      ]
     },
     "execution_count": 8,
     "metadata": {},
     "output_type": "execute_result"
    }
   ],
   "source": [
    "# let's imagine we ask a user for their information. Instead\n",
    "# they give us the following data:\n",
    "row = \"('dmbfkl', 1,1);DROP TABLE movie\"\n",
    "\n",
    "cur.executescript(f\"INSERT INTO movie VALUES {row}\")"
   ]
  },
  {
   "cell_type": "markdown",
   "metadata": {},
   "source": [
    "The 'DROP TABLE' injection has destroyed the table"
   ]
  },
  {
   "cell_type": "code",
   "execution_count": 9,
   "metadata": {},
   "outputs": [
    {
     "name": "stdout",
     "output_type": "stream",
     "text": [
      "no such table: movie\n"
     ]
    }
   ],
   "source": [
    "try:\n",
    "    cur.execute(\"SELECT * FROM movie\")\n",
    "except Exception as e:\n",
    "    print(e)\n"
   ]
  },
  {
   "cell_type": "markdown",
   "metadata": {},
   "source": [
    "## Excercise 1: load xlsx and store rows in a single sqlite table\n",
    "\n",
    "Data: Hus ostolaskut 22Q1"
   ]
  },
  {
   "cell_type": "code",
   "execution_count": 10,
   "metadata": {},
   "outputs": [],
   "source": [
    "import pandas as pd"
   ]
  },
  {
   "cell_type": "code",
   "execution_count": 11,
   "metadata": {},
   "outputs": [
    {
     "data": {
      "text/html": [
       "<div>\n",
       "<style scoped>\n",
       "    .dataframe tbody tr th:only-of-type {\n",
       "        vertical-align: middle;\n",
       "    }\n",
       "\n",
       "    .dataframe tbody tr th {\n",
       "        vertical-align: top;\n",
       "    }\n",
       "\n",
       "    .dataframe thead th {\n",
       "        text-align: right;\n",
       "    }\n",
       "</style>\n",
       "<table border=\"1\" class=\"dataframe\">\n",
       "  <thead>\n",
       "    <tr style=\"text-align: right;\">\n",
       "      <th></th>\n",
       "      <th>Nimi</th>\n",
       "      <th>Y-tunnus</th>\n",
       "      <th>Tulosyksikkö</th>\n",
       "      <th>Tulosyksikön nimi</th>\n",
       "      <th>Vastuuyksikkö</th>\n",
       "      <th>Vastuuyksikön nimi</th>\n",
       "      <th>Palveluluokka</th>\n",
       "      <th>Laskun päiväys</th>\n",
       "      <th>Tosite numero</th>\n",
       "      <th>Ostotilaus numero</th>\n",
       "      <th>...</th>\n",
       "      <th>Tiliryhmän nimi</th>\n",
       "      <th>Tilin numero</th>\n",
       "      <th>Tilin nimi</th>\n",
       "      <th>Toimittajan nimi</th>\n",
       "      <th>Toimittajan maakoodi</th>\n",
       "      <th>Toimittajan        y-tunnus</th>\n",
       "      <th>ALV-rekisterinumero</th>\n",
       "      <th>Netto summa</th>\n",
       "      <th>Alv summa</th>\n",
       "      <th>Kokonais summa</th>\n",
       "    </tr>\n",
       "  </thead>\n",
       "  <tbody>\n",
       "    <tr>\n",
       "      <th>0</th>\n",
       "      <td>HUS-kuntayhtymä</td>\n",
       "      <td>1567535-0</td>\n",
       "      <td>700.0</td>\n",
       "      <td>TILAKESKUKSEN HALLINTO</td>\n",
       "      <td>7002018</td>\n",
       "      <td>Vuokratilat, Helsinki</td>\n",
       "      <td>5501.0</td>\n",
       "      <td>24.03.2022</td>\n",
       "      <td>26462</td>\n",
       "      <td>NaN</td>\n",
       "      <td>...</td>\n",
       "      <td>LÄMMITYS, SÄHKÖ, KAASU JA VESI</td>\n",
       "      <td>457020</td>\n",
       "      <td>Sähkö</td>\n",
       "      <td>KIINTEISTÖ OY PASILANRAITIO 5</td>\n",
       "      <td>FI</td>\n",
       "      <td>0550836-4</td>\n",
       "      <td>FI05508364</td>\n",
       "      <td>290.24</td>\n",
       "      <td>69.66</td>\n",
       "      <td>359.90</td>\n",
       "    </tr>\n",
       "    <tr>\n",
       "      <th>1</th>\n",
       "      <td>HUS-kuntayhtymä</td>\n",
       "      <td>1567535-0</td>\n",
       "      <td>710.0</td>\n",
       "      <td>YHTYMÄHALLINTO</td>\n",
       "      <td>7103002</td>\n",
       "      <td>Tasekirjaukset</td>\n",
       "      <td>9999.0</td>\n",
       "      <td>24.03.2022</td>\n",
       "      <td>26462</td>\n",
       "      <td>NaN</td>\n",
       "      <td>...</td>\n",
       "      <td>MUUT SAAMISET, LYHYTAIKAISET</td>\n",
       "      <td>176024</td>\n",
       "      <td>Alv-saamiset, palautus 24%</td>\n",
       "      <td>KIINTEISTÖ OY PASILANRAITIO 5</td>\n",
       "      <td>FI</td>\n",
       "      <td>0550836-4</td>\n",
       "      <td>FI05508364</td>\n",
       "      <td>NaN</td>\n",
       "      <td>69.66</td>\n",
       "      <td>69.66</td>\n",
       "    </tr>\n",
       "    <tr>\n",
       "      <th>2</th>\n",
       "      <td>HUS-kuntayhtymä</td>\n",
       "      <td>1567535-0</td>\n",
       "      <td>700.0</td>\n",
       "      <td>TILAKESKUKSEN HALLINTO</td>\n",
       "      <td>7002018</td>\n",
       "      <td>Vuokratilat, Helsinki</td>\n",
       "      <td>5501.0</td>\n",
       "      <td>01.01.2022</td>\n",
       "      <td>23256</td>\n",
       "      <td>NaN</td>\n",
       "      <td>...</td>\n",
       "      <td>VUOKRAT</td>\n",
       "      <td>480020</td>\n",
       "      <td>Toimitilojen vuokrat</td>\n",
       "      <td>HENRY INVESTMENT OY</td>\n",
       "      <td>FI</td>\n",
       "      <td>2922998-4</td>\n",
       "      <td>FI29229984</td>\n",
       "      <td>14627.13</td>\n",
       "      <td>3510.51</td>\n",
       "      <td>18137.64</td>\n",
       "    </tr>\n",
       "    <tr>\n",
       "      <th>3</th>\n",
       "      <td>HUS-kuntayhtymä</td>\n",
       "      <td>1567535-0</td>\n",
       "      <td>710.0</td>\n",
       "      <td>YHTYMÄHALLINTO</td>\n",
       "      <td>7103002</td>\n",
       "      <td>Tasekirjaukset</td>\n",
       "      <td>9999.0</td>\n",
       "      <td>01.01.2022</td>\n",
       "      <td>23256</td>\n",
       "      <td>NaN</td>\n",
       "      <td>...</td>\n",
       "      <td>MUUT SAAMISET, LYHYTAIKAISET</td>\n",
       "      <td>176024</td>\n",
       "      <td>Alv-saamiset, palautus 24%</td>\n",
       "      <td>HENRY INVESTMENT OY</td>\n",
       "      <td>FI</td>\n",
       "      <td>2922998-4</td>\n",
       "      <td>FI29229984</td>\n",
       "      <td>NaN</td>\n",
       "      <td>3510.51</td>\n",
       "      <td>3510.51</td>\n",
       "    </tr>\n",
       "    <tr>\n",
       "      <th>4</th>\n",
       "      <td>HUS-kuntayhtymä</td>\n",
       "      <td>1567535-0</td>\n",
       "      <td>700.0</td>\n",
       "      <td>TILAKESKUKSEN HALLINTO</td>\n",
       "      <td>7002018</td>\n",
       "      <td>Vuokratilat, Helsinki</td>\n",
       "      <td>5501.0</td>\n",
       "      <td>01.01.2022</td>\n",
       "      <td>23256</td>\n",
       "      <td>NaN</td>\n",
       "      <td>...</td>\n",
       "      <td>VUOKRAT</td>\n",
       "      <td>480020</td>\n",
       "      <td>Toimitilojen vuokrat</td>\n",
       "      <td>HENRY INVESTMENT OY</td>\n",
       "      <td>FI</td>\n",
       "      <td>2922998-4</td>\n",
       "      <td>FI29229984</td>\n",
       "      <td>7300.00</td>\n",
       "      <td>1752.00</td>\n",
       "      <td>9052.00</td>\n",
       "    </tr>\n",
       "    <tr>\n",
       "      <th>...</th>\n",
       "      <td>...</td>\n",
       "      <td>...</td>\n",
       "      <td>...</td>\n",
       "      <td>...</td>\n",
       "      <td>...</td>\n",
       "      <td>...</td>\n",
       "      <td>...</td>\n",
       "      <td>...</td>\n",
       "      <td>...</td>\n",
       "      <td>...</td>\n",
       "      <td>...</td>\n",
       "      <td>...</td>\n",
       "      <td>...</td>\n",
       "      <td>...</td>\n",
       "      <td>...</td>\n",
       "      <td>...</td>\n",
       "      <td>...</td>\n",
       "      <td>...</td>\n",
       "      <td>...</td>\n",
       "      <td>...</td>\n",
       "      <td>...</td>\n",
       "    </tr>\n",
       "    <tr>\n",
       "      <th>995</th>\n",
       "      <td>HUS-kuntayhtymä</td>\n",
       "      <td>1567535-0</td>\n",
       "      <td>760.0</td>\n",
       "      <td>HUS LOGISTIIKKA</td>\n",
       "      <td>7602014</td>\n",
       "      <td>Varasto, logistiikkakeskus</td>\n",
       "      <td>5501.0</td>\n",
       "      <td>19.01.2022</td>\n",
       "      <td>24175</td>\n",
       "      <td>392217834.0</td>\n",
       "      <td>...</td>\n",
       "      <td>LYHYTAIKAISET SIIRTOVELAT</td>\n",
       "      <td>257070</td>\n",
       "      <td>Varaston siirtovelka</td>\n",
       "      <td>STERIPOLAR OY</td>\n",
       "      <td>FI</td>\n",
       "      <td>0603924-8</td>\n",
       "      <td>FI06039248</td>\n",
       "      <td>900.00</td>\n",
       "      <td>216.00</td>\n",
       "      <td>1116.00</td>\n",
       "    </tr>\n",
       "    <tr>\n",
       "      <th>996</th>\n",
       "      <td>HUS-kuntayhtymä</td>\n",
       "      <td>1567535-0</td>\n",
       "      <td>710.0</td>\n",
       "      <td>YHTYMÄHALLINTO</td>\n",
       "      <td>7103002</td>\n",
       "      <td>Tasekirjaukset</td>\n",
       "      <td>9999.0</td>\n",
       "      <td>19.01.2022</td>\n",
       "      <td>24175</td>\n",
       "      <td>NaN</td>\n",
       "      <td>...</td>\n",
       "      <td>MUUT SAAMISET, LYHYTAIKAISET</td>\n",
       "      <td>176024</td>\n",
       "      <td>Alv-saamiset, palautus 24%</td>\n",
       "      <td>STERIPOLAR OY</td>\n",
       "      <td>FI</td>\n",
       "      <td>0603924-8</td>\n",
       "      <td>FI06039248</td>\n",
       "      <td>NaN</td>\n",
       "      <td>216.00</td>\n",
       "      <td>216.00</td>\n",
       "    </tr>\n",
       "    <tr>\n",
       "      <th>997</th>\n",
       "      <td>HUS-kuntayhtymä</td>\n",
       "      <td>1567535-0</td>\n",
       "      <td>760.0</td>\n",
       "      <td>HUS LOGISTIIKKA</td>\n",
       "      <td>7602014</td>\n",
       "      <td>Varasto, logistiikkakeskus</td>\n",
       "      <td>5501.0</td>\n",
       "      <td>19.01.2022</td>\n",
       "      <td>24049</td>\n",
       "      <td>392218055.0</td>\n",
       "      <td>...</td>\n",
       "      <td>LYHYTAIKAISET SIIRTOVELAT</td>\n",
       "      <td>257070</td>\n",
       "      <td>Varaston siirtovelka</td>\n",
       "      <td>STERIPOLAR OY</td>\n",
       "      <td>FI</td>\n",
       "      <td>0603924-8</td>\n",
       "      <td>FI06039248</td>\n",
       "      <td>19.50</td>\n",
       "      <td>4.68</td>\n",
       "      <td>24.18</td>\n",
       "    </tr>\n",
       "    <tr>\n",
       "      <th>998</th>\n",
       "      <td>HUS-kuntayhtymä</td>\n",
       "      <td>1567535-0</td>\n",
       "      <td>760.0</td>\n",
       "      <td>HUS LOGISTIIKKA</td>\n",
       "      <td>7602014</td>\n",
       "      <td>Varasto, logistiikkakeskus</td>\n",
       "      <td>5501.0</td>\n",
       "      <td>19.01.2022</td>\n",
       "      <td>24049</td>\n",
       "      <td>392218055.0</td>\n",
       "      <td>...</td>\n",
       "      <td>LYHYTAIKAISET SIIRTOVELAT</td>\n",
       "      <td>257070</td>\n",
       "      <td>Varaston siirtovelka</td>\n",
       "      <td>STERIPOLAR OY</td>\n",
       "      <td>FI</td>\n",
       "      <td>0603924-8</td>\n",
       "      <td>FI06039248</td>\n",
       "      <td>650.00</td>\n",
       "      <td>156.00</td>\n",
       "      <td>806.00</td>\n",
       "    </tr>\n",
       "    <tr>\n",
       "      <th>999</th>\n",
       "      <td>HUS-kuntayhtymä</td>\n",
       "      <td>1567535-0</td>\n",
       "      <td>760.0</td>\n",
       "      <td>HUS LOGISTIIKKA</td>\n",
       "      <td>7602014</td>\n",
       "      <td>Varasto, logistiikkakeskus</td>\n",
       "      <td>5501.0</td>\n",
       "      <td>19.01.2022</td>\n",
       "      <td>24049</td>\n",
       "      <td>392218055.0</td>\n",
       "      <td>...</td>\n",
       "      <td>LYHYTAIKAISET SIIRTOVELAT</td>\n",
       "      <td>257070</td>\n",
       "      <td>Varaston siirtovelka</td>\n",
       "      <td>STERIPOLAR OY</td>\n",
       "      <td>FI</td>\n",
       "      <td>0603924-8</td>\n",
       "      <td>FI06039248</td>\n",
       "      <td>940.00</td>\n",
       "      <td>225.60</td>\n",
       "      <td>1165.60</td>\n",
       "    </tr>\n",
       "  </tbody>\n",
       "</table>\n",
       "<p>1000 rows × 24 columns</p>\n",
       "</div>"
      ],
      "text/plain": [
       "               Nimi    Y-tunnus  Tulosyksikkö       Tulosyksikön nimi  \\\n",
       "0    HUS-kuntayhtymä  1567535-0         700.0  TILAKESKUKSEN HALLINTO   \n",
       "1    HUS-kuntayhtymä  1567535-0         710.0          YHTYMÄHALLINTO   \n",
       "2    HUS-kuntayhtymä  1567535-0         700.0  TILAKESKUKSEN HALLINTO   \n",
       "3    HUS-kuntayhtymä  1567535-0         710.0          YHTYMÄHALLINTO   \n",
       "4    HUS-kuntayhtymä  1567535-0         700.0  TILAKESKUKSEN HALLINTO   \n",
       "..               ...        ...           ...                     ...   \n",
       "995  HUS-kuntayhtymä  1567535-0         760.0         HUS LOGISTIIKKA   \n",
       "996  HUS-kuntayhtymä  1567535-0         710.0          YHTYMÄHALLINTO   \n",
       "997  HUS-kuntayhtymä  1567535-0         760.0         HUS LOGISTIIKKA   \n",
       "998  HUS-kuntayhtymä  1567535-0         760.0         HUS LOGISTIIKKA   \n",
       "999  HUS-kuntayhtymä  1567535-0         760.0         HUS LOGISTIIKKA   \n",
       "\n",
       "     Vastuuyksikkö          Vastuuyksikön nimi  Palveluluokka Laskun päiväys  \\\n",
       "0          7002018       Vuokratilat, Helsinki         5501.0     24.03.2022   \n",
       "1          7103002              Tasekirjaukset         9999.0     24.03.2022   \n",
       "2          7002018       Vuokratilat, Helsinki         5501.0     01.01.2022   \n",
       "3          7103002              Tasekirjaukset         9999.0     01.01.2022   \n",
       "4          7002018       Vuokratilat, Helsinki         5501.0     01.01.2022   \n",
       "..             ...                         ...            ...            ...   \n",
       "995        7602014  Varasto, logistiikkakeskus         5501.0     19.01.2022   \n",
       "996        7103002              Tasekirjaukset         9999.0     19.01.2022   \n",
       "997        7602014  Varasto, logistiikkakeskus         5501.0     19.01.2022   \n",
       "998        7602014  Varasto, logistiikkakeskus         5501.0     19.01.2022   \n",
       "999        7602014  Varasto, logistiikkakeskus         5501.0     19.01.2022   \n",
       "\n",
       "     Tosite numero  Ostotilaus numero  ...                 Tiliryhmän nimi  \\\n",
       "0            26462                NaN  ...  LÄMMITYS, SÄHKÖ, KAASU JA VESI   \n",
       "1            26462                NaN  ...    MUUT SAAMISET, LYHYTAIKAISET   \n",
       "2            23256                NaN  ...                         VUOKRAT   \n",
       "3            23256                NaN  ...    MUUT SAAMISET, LYHYTAIKAISET   \n",
       "4            23256                NaN  ...                         VUOKRAT   \n",
       "..             ...                ...  ...                             ...   \n",
       "995          24175        392217834.0  ...       LYHYTAIKAISET SIIRTOVELAT   \n",
       "996          24175                NaN  ...    MUUT SAAMISET, LYHYTAIKAISET   \n",
       "997          24049        392218055.0  ...       LYHYTAIKAISET SIIRTOVELAT   \n",
       "998          24049        392218055.0  ...       LYHYTAIKAISET SIIRTOVELAT   \n",
       "999          24049        392218055.0  ...       LYHYTAIKAISET SIIRTOVELAT   \n",
       "\n",
       "    Tilin numero                  Tilin nimi               Toimittajan nimi  \\\n",
       "0         457020                       Sähkö  KIINTEISTÖ OY PASILANRAITIO 5   \n",
       "1         176024  Alv-saamiset, palautus 24%  KIINTEISTÖ OY PASILANRAITIO 5   \n",
       "2         480020        Toimitilojen vuokrat            HENRY INVESTMENT OY   \n",
       "3         176024  Alv-saamiset, palautus 24%            HENRY INVESTMENT OY   \n",
       "4         480020        Toimitilojen vuokrat            HENRY INVESTMENT OY   \n",
       "..           ...                         ...                            ...   \n",
       "995       257070        Varaston siirtovelka                  STERIPOLAR OY   \n",
       "996       176024  Alv-saamiset, palautus 24%                  STERIPOLAR OY   \n",
       "997       257070        Varaston siirtovelka                  STERIPOLAR OY   \n",
       "998       257070        Varaston siirtovelka                  STERIPOLAR OY   \n",
       "999       257070        Varaston siirtovelka                  STERIPOLAR OY   \n",
       "\n",
       "    Toimittajan maakoodi  Toimittajan        y-tunnus ALV-rekisterinumero  \\\n",
       "0                     FI                    0550836-4          FI05508364   \n",
       "1                     FI                    0550836-4          FI05508364   \n",
       "2                     FI                    2922998-4          FI29229984   \n",
       "3                     FI                    2922998-4          FI29229984   \n",
       "4                     FI                    2922998-4          FI29229984   \n",
       "..                   ...                          ...                 ...   \n",
       "995                   FI                    0603924-8          FI06039248   \n",
       "996                   FI                    0603924-8          FI06039248   \n",
       "997                   FI                    0603924-8          FI06039248   \n",
       "998                   FI                    0603924-8          FI06039248   \n",
       "999                   FI                    0603924-8          FI06039248   \n",
       "\n",
       "    Netto summa Alv summa Kokonais summa  \n",
       "0        290.24     69.66         359.90  \n",
       "1           NaN     69.66          69.66  \n",
       "2      14627.13   3510.51       18137.64  \n",
       "3           NaN   3510.51        3510.51  \n",
       "4       7300.00   1752.00        9052.00  \n",
       "..          ...       ...            ...  \n",
       "995      900.00    216.00        1116.00  \n",
       "996         NaN    216.00         216.00  \n",
       "997       19.50      4.68          24.18  \n",
       "998      650.00    156.00         806.00  \n",
       "999      940.00    225.60        1165.60  \n",
       "\n",
       "[1000 rows x 24 columns]"
      ]
     },
     "execution_count": 11,
     "metadata": {},
     "output_type": "execute_result"
    }
   ],
   "source": [
    "# read only 1000 rows, because the file is huge!\n",
    "pd.read_excel(\"https://www.hus.fi/sites/default/files/2022-04/husin-ostolaskutiedot-q1-2022.xlsx\", nrows = 1000)"
   ]
  },
  {
   "cell_type": "code",
   "execution_count": null,
   "metadata": {},
   "outputs": [],
   "source": [
    "#  your code here"
   ]
  },
  {
   "cell_type": "markdown",
   "metadata": {},
   "source": [
    "## Exercise 2: There is a change! \n",
    "\n",
    "A provider called 'HENRY INVESTMENT OY' changes their company name to 'HENRY CAPITAL OY'. Perform the change on the records in the database. "
   ]
  },
  {
   "cell_type": "code",
   "execution_count": null,
   "metadata": {},
   "outputs": [],
   "source": [
    "# your code here"
   ]
  },
  {
   "cell_type": "markdown",
   "metadata": {},
   "source": [
    "## Exercise 3: Time for normalization!\n",
    "\n",
    "From the previous example, you may have noticed how impractical it is to have all data in single master table. There is a lot of duplicate information risking breaking the data in face of change, and all operations need to handle the whole table and are thus very expensive. This is why normalization is needed. \n",
    "\n",
    "Normalization means breaking the table into entities and relations. The fundamental principle is to write each unit of information only once in the database, except for keys (IDs). There are exceptions, but this is what the aim is, usually. \n",
    "\n",
    "First, perform entity relationship modelling of the table (pen-and-paper or for example using https://erdplus.com). What are primary and foreign keys, attributes and constraints for the tables? Are the relations one-to-one or one-to-many?\n",
    "\n",
    "Then, create and fill the tables according the ER model."
   ]
  },
  {
   "cell_type": "code",
   "execution_count": 1,
   "metadata": {},
   "outputs": [],
   "source": [
    "# your code here"
   ]
  },
  {
   "cell_type": "markdown",
   "metadata": {},
   "source": [
    "Finally, try to perform the change of name from 'HENRY INVESTMENT OY' to HENRY CAPITAL OY'. How many rows do you need to change?"
   ]
  },
  {
   "cell_type": "code",
   "execution_count": null,
   "metadata": {},
   "outputs": [],
   "source": [
    "# your code here"
   ]
  },
  {
   "cell_type": "markdown",
   "metadata": {},
   "source": [
    "BONUS: using your normalized tables, for each unit ('tulosyksikkö') figure out which provider ('toimittaja') has billed highest cost during the month of January in 2022, and how much the total bill sum is."
   ]
  },
  {
   "cell_type": "markdown",
   "metadata": {},
   "source": [
    "# your code here"
   ]
  }
 ],
 "metadata": {
  "kernelspec": {
   "display_name": "Python 3.9.15 64-bit",
   "language": "python",
   "name": "python3"
  },
  "language_info": {
   "codemirror_mode": {
    "name": "ipython",
    "version": 3
   },
   "file_extension": ".py",
   "mimetype": "text/x-python",
   "name": "python",
   "nbconvert_exporter": "python",
   "pygments_lexer": "ipython3",
   "version": "3.9.15"
  },
  "orig_nbformat": 4,
  "vscode": {
   "interpreter": {
    "hash": "949777d72b0d2535278d3dc13498b2535136f6dfe0678499012e853ee9abcab1"
   }
  }
 },
 "nbformat": 4,
 "nbformat_minor": 2
}
